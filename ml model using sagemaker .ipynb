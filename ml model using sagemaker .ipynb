{
 "cells": [
  {
   "cell_type": "code",
   "execution_count": 2,
   "id": "5e9ad8fa",
   "metadata": {},
   "outputs": [],
   "source": [
    "import boto3\n",
    "import sagemaker\n",
    "from sagemaker import get_execution_role\n",
    "from sagemaker.image_uris import retrieve\n",
    "\n",
    "session = boto3.Session()\n",
    "\n",
    "role = get_execution_role()\n",
    "\n",
    "region = session.region_name\n",
    "\n",
    "container = retrieve('xgboost', region, version='1.5-1')  \n"
   ]
  },
  {
   "cell_type": "code",
   "execution_count": 4,
   "id": "9567bb08",
   "metadata": {},
   "outputs": [],
   "source": [
    "import pandas as pd\n",
    "from sklearn.model_selection import train_test_split"
   ]
  },
  {
   "cell_type": "code",
   "execution_count": 7,
   "id": "cebb885f",
   "metadata": {},
   "outputs": [],
   "source": [
    "bucket = 'fsbucket09'\n",
    "data_key = 'preprocessed_data.csv' \n",
    "s3_data_path = f's3://{bucket}/{data_key}'\n",
    "\n",
    "role = get_execution_role()"
   ]
  },
  {
   "cell_type": "markdown",
   "id": "0f4a757f",
   "metadata": {},
   "source": [
    "# Retrieving the XGBoost Image URI"
   ]
  },
  {
   "cell_type": "code",
   "execution_count": 8,
   "id": "42aa4d90",
   "metadata": {},
   "outputs": [],
   "source": [
    "region = sagemaker.Session().boto_region_name \n",
    "xgboost_version = '1.2-2'  \n",
    "container = retrieve('xgboost', region, version=xgboost_version)\n"
   ]
  },
  {
   "cell_type": "markdown",
   "id": "97bc1f2a",
   "metadata": {},
   "source": [
    "# Creating SageMaker Estimator"
   ]
  },
  {
   "cell_type": "code",
   "execution_count": 28,
   "id": "4cb1ce55",
   "metadata": {},
   "outputs": [],
   "source": [
    "xgb = Estimator(image_uri=container,\n",
    "                role=role,\n",
    "                instance_count=1,  \n",
    "                instance_type='ml.m4.xlarge', \n",
    "                output_path=f's3://{bucket}/output', \n",
    "                sagemaker_session=sagemaker.Session())\n",
    "\n",
    "xgb.set_hyperparameters(max_depth=5,\n",
    "                        eta=0.2,\n",
    "                        gamma=4,\n",
    "                        min_child_weight=6,\n",
    "                        subsample=0.8,\n",
    "                        verbosity=0, \n",
    "                        objective='reg:squarederror',  \n",
    "                        num_round=100)"
   ]
  },
  {
   "cell_type": "markdown",
   "id": "8dde13d8",
   "metadata": {},
   "source": [
    "# Loadind the data "
   ]
  },
  {
   "cell_type": "code",
   "execution_count": 17,
   "id": "e55ac7ac",
   "metadata": {},
   "outputs": [],
   "source": [
    "import pandas as pd\n",
    "\n",
    "local_data_path = 'preprocessed_data.csv' \n",
    "df = pd.read_csv(local_data_path)"
   ]
  },
  {
   "cell_type": "markdown",
   "id": "cdc6a8ca",
   "metadata": {},
   "source": [
    "# Splitting the data"
   ]
  },
  {
   "cell_type": "code",
   "execution_count": 18,
   "id": "6ce3da72",
   "metadata": {},
   "outputs": [],
   "source": [
    "from sklearn.model_selection import train_test_split\n",
    "\n",
    "X = df.drop(df.columns[0], axis=1)\n",
    "y = df[df.columns[0]]\n",
    "\n",
    "X_train, X_val, y_train, y_val = train_test_split(X, y, test_size=0.2, random_state=42)\n",
    "\n",
    "train_data = pd.concat([y_train, X_train], axis=1)\n",
    "val_data = pd.concat([y_val, X_val], axis=1)\n"
   ]
  },
  {
   "cell_type": "markdown",
   "id": "f8d32494",
   "metadata": {},
   "source": [
    "# Uploading the Split Data to S3"
   ]
  },
  {
   "cell_type": "code",
   "execution_count": 19,
   "id": "52b9ab14",
   "metadata": {},
   "outputs": [],
   "source": [
    "import boto3\n",
    "\n",
    "s3_client = boto3.client('s3')\n",
    "bucket_name = 'fstbucket09'\n",
    "\n",
    "train_data.to_csv('train_data.csv', header=False, index=False)\n",
    "val_data.to_csv('val_data.csv', header=False, index=False)\n",
    "\n",
    "train_key = 'train/train_data.csv'\n",
    "val_key = 'validation/val_data.csv'\n",
    "s3_client.upload_file('train_data.csv', bucket_name, train_key)\n",
    "s3_client.upload_file('val_data.csv', bucket_name, val_key)\n"
   ]
  },
  {
   "cell_type": "markdown",
   "id": "c549b002",
   "metadata": {},
   "source": [
    "# Referencing the S3 paths and creating input channels to sagemaker"
   ]
  },
  {
   "cell_type": "code",
   "execution_count": 21,
   "id": "d39f7c2f",
   "metadata": {},
   "outputs": [],
   "source": [
    "from sagemaker.inputs import TrainingInput\n",
    "\n",
    "s3_input_train = TrainingInput(s3_data=f's3://{bucket_name}/{train_key}', content_type='csv')\n",
    "s3_input_val = TrainingInput(s3_data=f's3://{bucket_name}/{val_key}', content_type='csv')\n"
   ]
  },
  {
   "cell_type": "markdown",
   "id": "38e6c219",
   "metadata": {},
   "source": [
    "# Start the training "
   ]
  },
  {
   "cell_type": "code",
   "execution_count": 29,
   "id": "c0ae33c6",
   "metadata": {},
   "outputs": [],
   "source": [
    "output_prefix = 'output' \n",
    "output_path = f's3://{bucket_name}/{output_prefix}'\n",
    "\n",
    "xgb = Estimator(\n",
    "    container,\n",
    "    role,\n",
    "    instance_count=1,\n",
    "    instance_type='ml.m4.xlarge',\n",
    "    output_path=output_path,\n",
    "    sagemaker_session=sagemaker.Session()\n",
    ")\n",
    "\n"
   ]
  },
  {
   "cell_type": "code",
   "execution_count": null,
   "id": "7f51ab00",
   "metadata": {},
   "outputs": [],
   "source": [
    "import sagemaker\n",
    "from sagemaker.amazon.amazon_estimator import get_image_uri\n",
    "\n",
    "\n",
    "bucket_name = 'fstbucket09' \n",
    "output_prefix = 'output'  \n",
    "\n",
    "region = sagemaker.Session().boto_region_name \n",
    "container = get_image_uri(region, 'xgboost', repo_version='1.0-1')  \n",
    "\n",
    "role = sagemaker.get_execution_role()\n",
    "\n",
    "t\n",
    "xgb = sagemaker.estimator.Estimator(\n",
    "    image_name=container, \n",
    "    role=role,\n",
    "    instance_count=1,\n",
    "    instance_type='ml.m4.xlarge',\n",
    "    output_path=f's3://{bucket_name}/{output_prefix}',\n",
    "    sagemaker_session=sagemaker.Session()\n",
    ")\n",
    "\n",
    "xgb.set_hyperparameters(\n",
    "    max_depth=5,\n",
    "    eta=0.2,\n",
    "    gamma=4,\n",
    "    min_child_weight=6,\n",
    "    subsample=0.8,\n",
    "    verbosity=0,\n",
    "    objective='reg:squarederror',\n",
    "    num_round=100\n",
    ")\n",
    "\n"
   ]
  },
  {
   "cell_type": "code",
   "execution_count": 30,
   "id": "477d0d7f",
   "metadata": {},
   "outputs": [
    {
     "name": "stderr",
     "output_type": "stream",
     "text": [
      "INFO:sagemaker.image_uris:Ignoring unnecessary instance type: None.\n"
     ]
    },
    {
     "name": "stdout",
     "output_type": "stream",
     "text": [
      "825641698319.dkr.ecr.us-east-2.amazonaws.com/xgboost:latest\n"
     ]
    }
   ],
   "source": [
    "import sagemaker\n",
    "from sagemaker import image_uris\n",
    "\n",
    "region = sagemaker.Session().boto_region_name  # or manually specify your region e.g., 'us-east-1'\n",
    "xgboost_image_uri = image_uris.retrieve(framework='xgboost', region=region, version='latest')\n",
    "print(xgboost_image_uri)\n"
   ]
  },
  {
   "cell_type": "code",
   "execution_count": 54,
   "id": "6b896643",
   "metadata": {},
   "outputs": [],
   "source": [
    "import sagemaker\n",
    "from sagemaker.estimator import Estimator\n",
    "\n",
    "role = sagemaker.get_execution_role() \n",
    "output_path = 's3://your-bucket-name/model-artifacts' \n",
    "\n",
    "xgb_estimator = Estimator(image_uri='825641698319.dkr.ecr.us-east-2.amazonaws.com/xgboost:latest',\n",
    "                          role=role,\n",
    "                          instance_count=1,\n",
    "                          instance_type='ml.t3.medium',\n",
    "                          output_path=output_path,\n",
    "                          sagemaker_session=sagemaker.Session())\n",
    "\n",
    "xgb_estimator.set_hyperparameters(\n",
    "    max_depth=5,\n",
    "    eta=0.2,\n",
    "    gamma=4,\n",
    "    min_child_weight=6,\n",
    "    subsample=0.8,\n",
    "    objective='reg:linear',\n",
    "    num_round=100\n",
    ")\n"
   ]
  },
  {
   "cell_type": "code",
   "execution_count": 55,
   "id": "1c27cf56",
   "metadata": {},
   "outputs": [],
   "source": [
    "xgb.set_hyperparameters(\n",
    "    objective='reg:linear',  \n",
    "    num_round=100\n",
    ")\n"
   ]
  },
  {
   "cell_type": "code",
   "execution_count": 56,
   "id": "e5783872",
   "metadata": {},
   "outputs": [],
   "source": [
    "output_path = f's3://{\"fstbucket09\"}/output'\n",
    "\n"
   ]
  },
  {
   "cell_type": "code",
   "execution_count": 57,
   "id": "c14da883",
   "metadata": {},
   "outputs": [],
   "source": [
    "s3_input_train = sagemaker.inputs.TrainingInput(s3_data='s3://fstbucket09/train/train_data_no_header.csv', content_type='csv')\n"
   ]
  },
  {
   "cell_type": "code",
   "execution_count": 47,
   "id": "3c9233a9",
   "metadata": {},
   "outputs": [],
   "source": [
    "import pandas as pd\n",
    "\n",
    "if 'category_column' in df.columns:\n",
    "    df['category_column'] = df['category_column'].astype('category').cat.codes\n",
    "\n",
    "for col in df.columns:\n",
    "    if df[col].dtype == 'object':\n",
    "        df.drop(col, inplace=True, axis=1)\n",
    "        \n",
    "df.to_csv('train_data_no_header.csv', header=False, index=False)\n"
   ]
  },
  {
   "cell_type": "code",
   "execution_count": 48,
   "id": "bd836c6a",
   "metadata": {},
   "outputs": [],
   "source": [
    "import boto3\n",
    "s3 = boto3.client('s3')\n",
    "s3.upload_file('train_data_no_header.csv', 'fstbucket09', 'train/train_data_no_header.csv')\n"
   ]
  },
  {
   "cell_type": "code",
   "execution_count": 62,
   "id": "f5666842",
   "metadata": {},
   "outputs": [
    {
     "name": "stderr",
     "output_type": "stream",
     "text": [
      "WARNING:sagemaker.deprecations:The method get_image_uri has been renamed in sagemaker>=2.\n",
      "See: https://sagemaker.readthedocs.io/en/stable/v2.html for details.\n",
      "INFO:sagemaker.image_uris:Defaulting to only available Python version: py3\n",
      "INFO:sagemaker.image_uris:Defaulting to only supported image scope: cpu.\n",
      "INFO:sagemaker:Creating training-job with name: sagemaker-xgboost-2024-03-30-03-28-52-587\n"
     ]
    },
    {
     "name": "stdout",
     "output_type": "stream",
     "text": [
      "2024-03-30 03:28:52 Starting - Starting the training job...\n",
      "2024-03-30 03:29:07 Starting - Preparing the instances for training......\n",
      "2024-03-30 03:30:05 Downloading - Downloading input data...\n",
      "2024-03-30 03:30:45 Downloading - Downloading the training image.....\u001b[34m[2024-03-30 03:31:36.630 ip-10-0-88-2.us-east-2.compute.internal:7 INFO utils.py:27] RULE_JOB_STOP_SIGNAL_FILENAME: None\u001b[0m\n",
      "\u001b[34mINFO:sagemaker-containers:Imported framework sagemaker_xgboost_container.training\u001b[0m\n",
      "\u001b[34mINFO:sagemaker-containers:Failed to parse hyperparameter objective value reg:linear to Json.\u001b[0m\n",
      "\u001b[34mReturning the value itself\u001b[0m\n",
      "\u001b[34mINFO:sagemaker-containers:No GPUs detected (normal if no gpus installed)\u001b[0m\n",
      "\u001b[34mINFO:sagemaker_xgboost_container.training:Running XGBoost Sagemaker in algorithm mode\u001b[0m\n",
      "\u001b[34mINFO:root:Determined delimiter of CSV input is ','\u001b[0m\n",
      "\u001b[34mINFO:root:Determined delimiter of CSV input is ','\u001b[0m\n",
      "\u001b[34mINFO:root:Determined delimiter of CSV input is ','\u001b[0m\n",
      "\u001b[34mINFO:root:Determined delimiter of CSV input is ','\u001b[0m\n",
      "\u001b[34mINFO:root:Determined delimiter of CSV input is ','\u001b[0m\n",
      "\u001b[34mINFO:root:Single node training.\u001b[0m\n",
      "\u001b[34m[03:31:36] 467190x7 matrix with 1972341 entries loaded from /opt/ml/input/data/train?format=csv&label_column=0&delimiter=,\u001b[0m\n",
      "\u001b[34m[03:31:36] 51910x7 matrix with 363319 entries loaded from /opt/ml/input/data/validation?format=csv&label_column=0&delimiter=,\u001b[0m\n",
      "\u001b[34m[2024-03-30 03:31:36.948 ip-10-0-88-2.us-east-2.compute.internal:7 INFO json_config.py:91] Creating hook from json_config at /opt/ml/input/config/debughookconfig.json.\u001b[0m\n",
      "\u001b[34m[2024-03-30 03:31:36.949 ip-10-0-88-2.us-east-2.compute.internal:7 INFO hook.py:201] tensorboard_dir has not been set for the hook. SMDebug will not be exporting tensorboard summaries.\u001b[0m\n",
      "\u001b[34m[2024-03-30 03:31:36.949 ip-10-0-88-2.us-east-2.compute.internal:7 INFO profiler_config_parser.py:102] User has disabled profiler.\u001b[0m\n",
      "\u001b[34m[2024-03-30 03:31:36.950 ip-10-0-88-2.us-east-2.compute.internal:7 INFO hook.py:255] Saving to /opt/ml/output/tensors\u001b[0m\n",
      "\u001b[34m[2024-03-30 03:31:36.950 ip-10-0-88-2.us-east-2.compute.internal:7 INFO state_store.py:77] The checkpoint config file /opt/ml/input/config/checkpointconfig.json does not exist.\u001b[0m\n",
      "\u001b[34mINFO:root:Debug hook created from config\u001b[0m\n",
      "\u001b[34mINFO:root:Train matrix has 467190 rows\u001b[0m\n",
      "\u001b[34mINFO:root:Validation matrix has 51910 rows\u001b[0m\n",
      "\u001b[34m[03:31:36] WARNING: /workspace/src/objective/regression_obj.cu:167: reg:linear is now deprecated in favor of reg:squarederror.\u001b[0m\n",
      "\u001b[34m[03:31:36] WARNING: /workspace/src/learner.cc:328: \u001b[0m\n",
      "\u001b[34mParameters: { num_round, silent } might not be used.\n",
      "  This may not be accurate due to some parameters are only used in language bindings but\n",
      "  passed down to XGBoost core.  Or some parameters are not used but slip through this\n",
      "  verification. Please open an issue if you find above cases.\u001b[0m\n",
      "\u001b[34m[0]#011train-rmse:338178.12500#011validation-rmse:338783.12500\u001b[0m\n",
      "\u001b[34m[2024-03-30 03:31:37.285 ip-10-0-88-2.us-east-2.compute.internal:7 INFO hook.py:423] Monitoring the collections: metrics\u001b[0m\n",
      "\u001b[34m[2024-03-30 03:31:37.288 ip-10-0-88-2.us-east-2.compute.internal:7 INFO hook.py:486] Hook is writing from the hook with pid: 7\u001b[0m\n",
      "\u001b[34m[1]#011train-rmse:273868.50000#011validation-rmse:274478.65625\u001b[0m\n",
      "\u001b[34m[2]#011train-rmse:222867.51562#011validation-rmse:223441.32812\u001b[0m\n",
      "\u001b[34m[3]#011train-rmse:183090.89062#011validation-rmse:183661.37500\u001b[0m\n",
      "\u001b[34m[4]#011train-rmse:151842.62500#011validation-rmse:152425.95312\u001b[0m\n",
      "\u001b[34m[5]#011train-rmse:127751.07812#011validation-rmse:128343.46875\u001b[0m\n",
      "\u001b[34m[6]#011train-rmse:109553.07031#011validation-rmse:110114.74219\u001b[0m\n",
      "\u001b[34m[7]#011train-rmse:95913.13281#011validation-rmse:96413.30469\u001b[0m\n",
      "\u001b[34m[8]#011train-rmse:85385.39844#011validation-rmse:85827.01562\u001b[0m\n",
      "\u001b[34m[9]#011train-rmse:78086.57812#011validation-rmse:78475.99219\u001b[0m\n",
      "\u001b[34m[10]#011train-rmse:72863.14844#011validation-rmse:73227.53125\u001b[0m\n",
      "\u001b[34m[11]#011train-rmse:68107.07031#011validation-rmse:68542.87500\u001b[0m\n",
      "\u001b[34m[12]#011train-rmse:65272.22266#011validation-rmse:65524.69922\u001b[0m\n",
      "\u001b[34m[13]#011train-rmse:63108.53125#011validation-rmse:63363.86328\u001b[0m\n",
      "\n",
      "2024-03-30 03:31:25 Training - Training image download completed. Training in progress.\u001b[34m[14]#011train-rmse:60523.55469#011validation-rmse:60837.69922\u001b[0m\n",
      "\u001b[34m[15]#011train-rmse:59739.02734#011validation-rmse:60027.38672\u001b[0m\n",
      "\u001b[34m[16]#011train-rmse:58765.37891#011validation-rmse:58871.85547\u001b[0m\n",
      "\u001b[34m[17]#011train-rmse:56850.19922#011validation-rmse:57080.38672\u001b[0m\n",
      "\u001b[34m[18]#011train-rmse:54981.66016#011validation-rmse:55100.24219\u001b[0m\n",
      "\u001b[34m[19]#011train-rmse:54469.25781#011validation-rmse:54626.01562\u001b[0m\n",
      "\u001b[34m[20]#011train-rmse:52801.46484#011validation-rmse:53169.18750\u001b[0m\n",
      "\u001b[34m[21]#011train-rmse:51657.91406#011validation-rmse:51928.44141\u001b[0m\n",
      "\u001b[34m[22]#011train-rmse:51008.30078#011validation-rmse:51264.97266\u001b[0m\n",
      "\u001b[34m[23]#011train-rmse:50890.81250#011validation-rmse:51134.50391\u001b[0m\n",
      "\u001b[34m[24]#011train-rmse:49700.22656#011validation-rmse:49920.13672\u001b[0m\n",
      "\u001b[34m[25]#011train-rmse:47531.67188#011validation-rmse:47676.61328\u001b[0m\n",
      "\u001b[34m[26]#011train-rmse:46188.17188#011validation-rmse:46311.89453\u001b[0m\n",
      "\u001b[34m[27]#011train-rmse:46008.05469#011validation-rmse:46153.00781\u001b[0m\n",
      "\u001b[34m[28]#011train-rmse:44730.85938#011validation-rmse:44962.90234\u001b[0m\n",
      "\u001b[34m[29]#011train-rmse:44576.38281#011validation-rmse:44688.00391\u001b[0m\n",
      "\u001b[34m[30]#011train-rmse:43037.20703#011validation-rmse:43085.63281\u001b[0m\n",
      "\u001b[34m[31]#011train-rmse:42789.08984#011validation-rmse:42821.97656\u001b[0m\n",
      "\u001b[34m[32]#011train-rmse:41522.58203#011validation-rmse:41521.78125\u001b[0m\n",
      "\u001b[34m[33]#011train-rmse:41398.98828#011validation-rmse:41413.23438\u001b[0m\n",
      "\u001b[34m[34]#011train-rmse:41358.05469#011validation-rmse:41368.52344\u001b[0m\n",
      "\u001b[34m[35]#011train-rmse:41201.00000#011validation-rmse:41200.86328\u001b[0m\n",
      "\u001b[34m[36]#011train-rmse:39996.82031#011validation-rmse:40068.25391\u001b[0m\n",
      "\u001b[34m[37]#011train-rmse:38796.97656#011validation-rmse:38877.85938\u001b[0m\n",
      "\u001b[34m[38]#011train-rmse:38041.25000#011validation-rmse:38142.12891\u001b[0m\n",
      "\u001b[34m[39]#011train-rmse:37258.05859#011validation-rmse:37414.50000\u001b[0m\n",
      "\u001b[34m[40]#011train-rmse:37162.02734#011validation-rmse:37313.06641\u001b[0m\n",
      "\u001b[34m[41]#011train-rmse:36706.74609#011validation-rmse:36889.34766\u001b[0m\n",
      "\u001b[34m[42]#011train-rmse:36231.33203#011validation-rmse:36451.30469\u001b[0m\n",
      "\u001b[34m[43]#011train-rmse:35240.52344#011validation-rmse:35465.20312\u001b[0m\n",
      "\u001b[34m[44]#011train-rmse:34541.73047#011validation-rmse:34721.98438\u001b[0m\n",
      "\u001b[34m[45]#011train-rmse:34105.46875#011validation-rmse:34272.01953\u001b[0m\n",
      "\u001b[34m[46]#011train-rmse:33819.83203#011validation-rmse:33977.69141\u001b[0m\n",
      "\u001b[34m[47]#011train-rmse:32709.69922#011validation-rmse:32895.91406\u001b[0m\n",
      "\u001b[34m[48]#011train-rmse:32139.59961#011validation-rmse:32325.77148\u001b[0m\n",
      "\u001b[34m[49]#011train-rmse:31364.77930#011validation-rmse:31879.86133\u001b[0m\n",
      "\u001b[34m[50]#011train-rmse:30172.55078#011validation-rmse:30542.00781\u001b[0m\n",
      "\u001b[34m[51]#011train-rmse:30121.12305#011validation-rmse:30490.87305\u001b[0m\n",
      "\u001b[34m[52]#011train-rmse:30103.33398#011validation-rmse:30474.12695\u001b[0m\n",
      "\u001b[34m[53]#011train-rmse:28914.74023#011validation-rmse:29365.30078\u001b[0m\n",
      "\u001b[34m[54]#011train-rmse:28086.02148#011validation-rmse:28410.01953\u001b[0m\n",
      "\u001b[34m[55]#011train-rmse:27970.93750#011validation-rmse:28278.68945\u001b[0m\n",
      "\u001b[34m[56]#011train-rmse:27493.61133#011validation-rmse:27825.21680\u001b[0m\n",
      "\u001b[34m[57]#011train-rmse:26877.94531#011validation-rmse:27236.01758\u001b[0m\n",
      "\u001b[34m[58]#011train-rmse:26788.72852#011validation-rmse:27137.79688\u001b[0m\n",
      "\u001b[34m[59]#011train-rmse:25863.01562#011validation-rmse:26148.15039\u001b[0m\n",
      "\u001b[34m[60]#011train-rmse:25852.02344#011validation-rmse:26135.12500\u001b[0m\n",
      "\u001b[34m[61]#011train-rmse:25525.13086#011validation-rmse:25822.45898\u001b[0m\n",
      "\u001b[34m[62]#011train-rmse:25211.18555#011validation-rmse:25472.71680\u001b[0m\n",
      "\u001b[34m[63]#011train-rmse:24675.19531#011validation-rmse:24857.95508\u001b[0m\n",
      "\u001b[34m[64]#011train-rmse:24553.46875#011validation-rmse:24746.89844\u001b[0m\n",
      "\u001b[34m[65]#011train-rmse:23953.07812#011validation-rmse:24126.98633\u001b[0m\n",
      "\u001b[34m[66]#011train-rmse:23730.25391#011validation-rmse:23922.58398\u001b[0m\n",
      "\u001b[34m[67]#011train-rmse:23182.90820#011validation-rmse:23400.95117\u001b[0m\n",
      "\u001b[34m[68]#011train-rmse:22299.03125#011validation-rmse:22548.94531\u001b[0m\n",
      "\u001b[34m[69]#011train-rmse:22290.50586#011validation-rmse:22539.29492\u001b[0m\n",
      "\u001b[34m[70]#011train-rmse:22059.78516#011validation-rmse:22303.70117\u001b[0m\n",
      "\u001b[34m[71]#011train-rmse:21314.02930#011validation-rmse:21551.54297\u001b[0m\n",
      "\u001b[34m[72]#011train-rmse:21032.40039#011validation-rmse:21279.46484\u001b[0m\n",
      "\u001b[34m[73]#011train-rmse:21009.89844#011validation-rmse:21257.24805\u001b[0m\n",
      "\u001b[34m[74]#011train-rmse:20572.45117#011validation-rmse:20713.54688\u001b[0m\n",
      "\u001b[34m[75]#011train-rmse:19937.10742#011validation-rmse:20099.97656\u001b[0m\n",
      "\u001b[34m[76]#011train-rmse:19581.81445#011validation-rmse:19753.42773\u001b[0m\n",
      "\u001b[34m[77]#011train-rmse:19295.71094#011validation-rmse:19401.48242\u001b[0m\n",
      "\u001b[34m[78]#011train-rmse:18731.79102#011validation-rmse:18885.59570\u001b[0m\n",
      "\u001b[34m[79]#011train-rmse:18634.31445#011validation-rmse:18779.95117\u001b[0m\n",
      "\u001b[34m[80]#011train-rmse:18024.98047#011validation-rmse:18150.53320\u001b[0m\n",
      "\u001b[34m[81]#011train-rmse:17511.37500#011validation-rmse:17775.39062\u001b[0m\n",
      "\u001b[34m[82]#011train-rmse:17116.53125#011validation-rmse:17348.05469\u001b[0m\n",
      "\u001b[34m[83]#011train-rmse:16931.90820#011validation-rmse:17269.18750\u001b[0m\n",
      "\u001b[34m[84]#011train-rmse:16532.02539#011validation-rmse:16872.29492\u001b[0m\n",
      "\u001b[34m[85]#011train-rmse:16429.83984#011validation-rmse:16829.96680\u001b[0m\n",
      "\u001b[34m[86]#011train-rmse:16239.35449#011validation-rmse:16642.24414\u001b[0m\n",
      "\u001b[34m[87]#011train-rmse:16179.94922#011validation-rmse:16569.00977\u001b[0m\n",
      "\u001b[34m[88]#011train-rmse:15921.92969#011validation-rmse:16294.94922\u001b[0m\n",
      "\u001b[34m[89]#011train-rmse:15665.31543#011validation-rmse:16037.08008\u001b[0m\n",
      "\u001b[34m[90]#011train-rmse:15492.99121#011validation-rmse:15808.92871\u001b[0m\n",
      "\u001b[34m[91]#011train-rmse:15488.07617#011validation-rmse:15803.19629\u001b[0m\n",
      "\u001b[34m[92]#011train-rmse:15470.22168#011validation-rmse:15784.54981\u001b[0m\n",
      "\u001b[34m[93]#011train-rmse:15240.23633#011validation-rmse:15556.83008\u001b[0m\n",
      "\u001b[34m[94]#011train-rmse:14929.67969#011validation-rmse:15213.31348\u001b[0m\n",
      "\u001b[34m[95]#011train-rmse:14877.65527#011validation-rmse:15163.79492\u001b[0m\n",
      "\u001b[34m[96]#011train-rmse:14731.64356#011validation-rmse:14969.27734\u001b[0m\n",
      "\u001b[34m[97]#011train-rmse:14473.37598#011validation-rmse:14767.13477\u001b[0m\n",
      "\u001b[34m[98]#011train-rmse:14207.75977#011validation-rmse:14451.31055\u001b[0m\n",
      "\u001b[34m[99]#011train-rmse:14083.46191#011validation-rmse:14327.59766\u001b[0m\n",
      "\n",
      "2024-03-30 03:32:16 Uploading - Uploading generated training model\n",
      "2024-03-30 03:32:16 Completed - Training job completed\n",
      "Training seconds: 132\n",
      "Billable seconds: 132\n"
     ]
    }
   ],
   "source": [
    "import sagemaker\n",
    "from sagemaker import get_execution_role\n",
    "from sagemaker.inputs import TrainingInput\n",
    "from sagemaker.amazon.amazon_estimator import get_image_uri\n",
    "\n",
    "# Set up the SageMaker session, role\n",
    "sagemaker_session = sagemaker.Session()\n",
    "role = get_execution_role()\n",
    "\n",
    "# Set up the image URI for XGBoost (make sure to specify the version you want to use)\n",
    "xgboost_container = get_image_uri(sagemaker_session.boto_region_name, 'xgboost', '1.0-1')  # Specify your XGBoost version here\n",
    "\n",
    "# Define the data channels for input data in S3\n",
    "s3_input_train = TrainingInput(s3_data='s3://fstbucket09/train/', content_type='csv')\n",
    "s3_input_validation = TrainingInput(s3_data='s3://fstbucket09/validation/', content_type='csv')\n",
    "\n",
    "# Configure the XGBoost estimator\n",
    "xgb_estimator = sagemaker.estimator.Estimator(\n",
    "    image_uri=xgboost_container,\n",
    "    role=role,\n",
    "    instance_count=1,\n",
    "    instance_type='ml.m4.xlarge',\n",
    "    output_path='s3://fstbucket09/output/',\n",
    "    sagemaker_session=sagemaker_session\n",
    ")\n",
    "\n",
    "# Set the hyperparameters\n",
    "xgb_estimator.set_hyperparameters(\n",
    "    max_depth=5,\n",
    "    eta=0.2,\n",
    "    gamma=4,\n",
    "    min_child_weight=6,\n",
    "    subsample=0.8,\n",
    "    silent=0,  \n",
    "    objective='reg:linear',\n",
    "    num_round=100\n",
    ")\n",
    "\n",
    "# Fit the model\n",
    "xgb_estimator.fit({'train': s3_input_train, 'validation': s3_input_validation})\n"
   ]
  },
  {
   "cell_type": "code",
   "execution_count": 63,
   "id": "ef05396a",
   "metadata": {},
   "outputs": [],
   "source": [
    "\n",
    "model_data = xgb_estimator.model_data\n"
   ]
  },
  {
   "cell_type": "code",
   "execution_count": 65,
   "id": "0212286a",
   "metadata": {},
   "outputs": [
    {
     "name": "stderr",
     "output_type": "stream",
     "text": [
      "INFO:sagemaker:Creating model with name: sagemaker-xgboost-2024-03-30-03-36-42-157\n",
      "INFO:sagemaker:Creating endpoint-config with name sagemaker-xgboost-2024-03-30-03-36-42-157\n",
      "INFO:sagemaker:Creating endpoint with name sagemaker-xgboost-2024-03-30-03-36-42-157\n"
     ]
    },
    {
     "name": "stdout",
     "output_type": "stream",
     "text": [
      "------!"
     ]
    }
   ],
   "source": [
    "from sagemaker.serializers import CSVSerializer\n",
    "\n",
    "predictor = xgb_estimator.deploy(\n",
    "    initial_instance_count=1,\n",
    "    instance_type='ml.m4.xlarge',\n",
    "    serializer=CSVSerializer()\n",
    ")\n"
   ]
  },
  {
   "cell_type": "code",
   "execution_count": 68,
   "id": "66962e2f",
   "metadata": {},
   "outputs": [
    {
     "name": "stdout",
     "output_type": "stream",
     "text": [
      "394378.03125\n"
     ]
    }
   ],
   "source": [
    "\n",
    "prediction_data = '30,70000,7,2,5,18,710'\n",
    "prediction = predictor.predict(prediction_data).decode('utf-8')\n",
    "print(prediction)"
   ]
  },
  {
   "cell_type": "code",
   "execution_count": null,
   "id": "c774cdb6",
   "metadata": {},
   "outputs": [],
   "source": [
    "from sagemaker.tuner import HyperparameterTuner, ContinuousParameter, IntegerParameter\n",
    "\n",
    "hyperparameter_ranges = {\n",
    "    'eta': ContinuousParameter(0.01, 0.2),\n",
    "    'min_child_weight': IntegerParameter(1, 10),\n",
    "    'gamma': ContinuousParameter(0, 5),\n",
    "    'subsample': ContinuousParameter(0.5, 0.9),\n",
    "   \n",
    "}\n",
    "\n",
    "tuner = HyperparameterTuner(\n",
    "    estimator=xgb_estimator,\n",
    "    objective_metric_name='validation:rmse', \n",
    "    hyperparameter_ranges=hyperparameter_ranges,\n",
    "    metric_definitions=[{'Name': 'validation:rmse', 'Regex': 'validation-rmse:([0-9\\\\.]+)'}], \n",
    "    max_jobs=20,\n",
    "    max_parallel_jobs=3,\n",
    "    objective_type='Minimize', \n",
    ")\n",
    "\n",
    "tuner.fit({'train': s3_input_train, 'validation': s3_input_validation})\n"
   ]
  },
  {
   "cell_type": "code",
   "execution_count": null,
   "id": "de2d7541",
   "metadata": {},
   "outputs": [],
   "source": []
  }
 ],
 "metadata": {
  "kernelspec": {
   "display_name": "conda_python3",
   "language": "python",
   "name": "conda_python3"
  },
  "language_info": {
   "codemirror_mode": {
    "name": "ipython",
    "version": 3
   },
   "file_extension": ".py",
   "mimetype": "text/x-python",
   "name": "python",
   "nbconvert_exporter": "python",
   "pygments_lexer": "ipython3",
   "version": "3.10.13"
  }
 },
 "nbformat": 4,
 "nbformat_minor": 5
}
